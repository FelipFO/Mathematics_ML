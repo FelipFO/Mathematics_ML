{
  "cells": [
    {
      "cell_type": "markdown",
      "metadata": {
        "id": "qQqlkRCiUJJg"
      },
      "source": [
        "#**Laboratorio: Valores y Vectores Propios**\n"
      ]
    },
    {
      "cell_type": "code",
      "execution_count": 1,
      "metadata": {
        "id": "9luRvN0CPuxQ"
      },
      "outputs": [],
      "source": [
        "#Importar librerías necesarias para la práctica\n",
        "\n",
        "import numpy as np\n"
      ]
    },
    {
      "cell_type": "markdown",
      "metadata": {
        "id": "DrdJ07wAlWUz"
      },
      "source": [
        "##**1. Valores y vectores propios**"
      ]
    },
    {
      "cell_type": "markdown",
      "metadata": {
        "id": "wGyiTHVcPJcK"
      },
      "source": [
        "La función de Numpy *linalg.eig(a)* recibe como parámetro una matriz cuadrada **A** y devuelve dos arreglos uno con los valores propios y el otro con los vectores propios. También se puede utilizar esta función de manera que solo devuelva sólo uno de los dos arreglos:\n",
        "\n",
        "* Para los vectores propios: *np.linalg.eig(a).eigenvectors*\n",
        "* Para los valores propios:  *np.linalg.eig(a).eigenvalues*"
      ]
    },
    {
      "cell_type": "markdown",
      "metadata": {
        "id": "sN_OtXz_agPa"
      },
      "source": [
        "**1.1 Ejemplo:** El siguiente ejemplo muestra cómo se puede utilizar esta función.  Considere la siguiente matriz:\n",
        "\\begin{align}\n",
        " M=\\begin{pmatrix}\n",
        " 7 & 9 & -4 \\\\\n",
        " 8 & 2 & 6 \\\\\n",
        " 18 & 7 & 3 \\\\\n",
        "\\end{pmatrix}\n",
        "\\end{align}\n",
        "\n",
        "Esta matriz en particular no es simétrica y es cuadrada. También, vamos a imprimir su contenido. Note que, para esta matriz, los valores propios son números complejos. El código fuente se presenta a continuación:\n"
      ]
    },
    {
      "cell_type": "code",
      "execution_count": 2,
      "metadata": {
        "colab": {
          "base_uri": "https://localhost:8080/"
        },
        "id": "0D5yOuAjXg6r",
        "outputId": "ff067333-464f-4ad5-ed0a-f5ae9fdf64e0"
      },
      "outputs": [
        {
          "name": "stdout",
          "output_type": "stream",
          "text": [
            "EigResult(eigenvalues=array([14.17939731+0.j        , -1.08969865+5.35864695j,\n",
            "       -1.08969865-5.35864695j]), eigenvectors=array([[-0.26782667+0.j        , -0.26296572+0.39356216j,\n",
            "        -0.26296572-0.39356216j],\n",
            "       [-0.56159037+0.j        ,  0.29330944-0.51032663j,\n",
            "         0.29330944+0.51032663j],\n",
            "       [-0.78286981+0.j        ,  0.65535804+0.j        ,\n",
            "         0.65535804-0.j        ]]))\n"
          ]
        }
      ],
      "source": [
        "#Definir la matriz M\n",
        "M = np.array([[7,9,-4],[8,2,6],[18,7,3]])\n",
        "\n",
        "#Calcular  los valore sy vectores prooios\n",
        "result = np.linalg.eig(M)\n",
        "\n",
        "#Imprimir en pantalla el resultado de la función linalg.eig(M)\n",
        "print(result)"
      ]
    },
    {
      "cell_type": "code",
      "execution_count": 3,
      "metadata": {
        "colab": {
          "base_uri": "https://localhost:8080/"
        },
        "id": "0Bx9qyywwjIB",
        "outputId": "84e1c0d1-ee6a-4a40-c1b6-373a436cf7a8"
      },
      "outputs": [
        {
          "name": "stdout",
          "output_type": "stream",
          "text": [
            "Valor Propio 1 : (14.179397308970753+0j)\n",
            "Vector Propio 1 : [-0.26782667+0.j -0.56159037+0.j -0.78286981+0.j]\n",
            "Valor Propio 2 : (-1.0896986544853844+5.35864695426102j)\n",
            "Vector Propio 2 : [-0.26296572+0.39356216j  0.29330944-0.51032663j  0.65535804+0.j        ]\n",
            "Valor Propio 3 : (-1.0896986544853844-5.35864695426102j)\n",
            "Vector Propio 3 : [-0.26296572-0.39356216j  0.29330944+0.51032663j  0.65535804-0.j        ]\n"
          ]
        }
      ],
      "source": [
        "# Ahora calcular los valores y vectores propios de forma separada\n",
        "val , vec = np.linalg.eig(M)\n",
        "#Imprime los resultados para cada función por aparte de una manera más organizada\n",
        "for i in range(len(val)):\n",
        "    print(\"Valor Propio\",i+1,\":\", val[i])\n",
        "    print(\"Vector Propio\",i+1,\":\", vec[:,i])"
      ]
    },
    {
      "cell_type": "markdown",
      "metadata": {
        "id": "WLk1xjL1at_7"
      },
      "source": [
        "**1.2 Ejemplo:** Ahora considere una matriz $B$:\n",
        "\\begin{align}\n",
        " B=\\begin{pmatrix}\n",
        " 1 & 2 & 3 \\\\\n",
        " 2 & 5 & 0 \\\\\n",
        " 3 & 0 & 1 \\\\\n",
        "\\end{pmatrix}\n",
        " \\end{align}\n",
        "\n",
        "Esta matriz es simétrica y cuadrada. Calculemos los valores y vectores propios. Note que los valores propios de esta matriz son reales. Recuerde que los valores propios de una matriz simétrica SIEMPRE son números reales."
      ]
    },
    {
      "cell_type": "code",
      "execution_count": 4,
      "metadata": {
        "colab": {
          "base_uri": "https://localhost:8080/"
        },
        "id": "cQiJ02Kfbm6a",
        "outputId": "96325465-167d-46e4-b3dd-d0d06f035efb"
      },
      "outputs": [
        {
          "name": "stdout",
          "output_type": "stream",
          "text": [
            "EigResult(eigenvalues=array([-2.28699044,  3.11942518,  6.16756526]), eigenvectors=array([[ 0.72389106, -0.49179281, -0.4838611 ],\n",
            "       [-0.19868039,  0.52302393, -0.82883779],\n",
            "       [-0.6606874 , -0.69612197, -0.28090275]]))\n"
          ]
        }
      ],
      "source": [
        "B= np.array([[1,2,3],[2,5,0],[3,0,1]])\n",
        "\n",
        "#Calcular los valores y vectores propios de forma simultanea\n",
        "result= np.linalg.eig(B)\n",
        "\n",
        "#Imprime en pantalla el resultado de la función linalg.eig(B)\n",
        "print(result)\n"
      ]
    },
    {
      "cell_type": "code",
      "execution_count": 5,
      "metadata": {
        "colab": {
          "base_uri": "https://localhost:8080/"
        },
        "id": "Sq4irRnzxdFe",
        "outputId": "d773a6ed-31b8-44ab-af0b-1639955fdfc6"
      },
      "outputs": [
        {
          "name": "stdout",
          "output_type": "stream",
          "text": [
            "Valor Propio 1 : -2.286990441636361\n",
            "Vector Propio 1 : [ 0.72389106 -0.19868039 -0.6606874 ]\n",
            "Valor Propio 2 : 3.119425178408482\n",
            "Vector Propio 2 : [-0.49179281  0.52302393 -0.69612197]\n",
            "Valor Propio 3 : 6.167565263227874\n",
            "Vector Propio 3 : [-0.4838611  -0.82883779 -0.28090275]\n"
          ]
        }
      ],
      "source": [
        "#Calcular los valores y vectores propios de forma separada\n",
        "val,vec=np.linalg.eig(B)\n",
        "\n",
        "\n",
        "#Imprime los resultados para cada función por aparte de una manera más organizada\n",
        "for i in range(len(val)):\n",
        "    print(\"Valor Propio\",i+1,\":\", val[i])\n",
        "    print(\"Vector Propio\",i+1,\":\", vec[:,i])"
      ]
    },
    {
      "cell_type": "markdown",
      "metadata": {
        "id": "KQw18y76fzDh"
      },
      "source": [
        "**Ejercicios de práctica**\n",
        "Para la siguientes matrices hallar e imprimir en pantalla los valores y vectores propios.\n",
        "\n",
        "Matriz 1\n",
        "\n",
        "\\begin{align}\n",
        " \\begin{pmatrix}\n",
        " 8 & 0 & 0 \\\\\n",
        " 0 & 2 & 0 \\\\\n",
        " 0 & 0 & 3 \\\\\n",
        "\\end{pmatrix}\n",
        " \\end{align}\n",
        "\n",
        "\n",
        "Matriz 2\n",
        "\n",
        "\\begin{align}\n",
        " \\begin{pmatrix}\n",
        " 4 & 7 & 6 \\\\\n",
        " 0 & 5 & 8 \\\\\n",
        " 5 & 1 & 3 \\\\\n",
        "\\end{pmatrix}\n",
        " \\end{align}\n"
      ]
    },
    {
      "cell_type": "code",
      "execution_count": 7,
      "metadata": {
        "colab": {
          "base_uri": "https://localhost:8080/"
        },
        "id": "ziVeSUscTeoQ",
        "outputId": "3f8d368e-9d65-42f9-c5d7-65e5f3a3106c"
      },
      "outputs": [
        {
          "name": "stdout",
          "output_type": "stream",
          "text": [
            "********************\n",
            "M1\n",
            "********************\n",
            "Autovalor 1 = 8.0\n",
            "Autovector 1 = [1. 0. 0.]\n",
            "Autovalor 2 = 2.0\n",
            "Autovector 2 = [0. 1. 0.]\n",
            "Autovalor 3 = 3.0\n",
            "Autovector 3 = [0. 0. 1.]\n",
            "********************\n",
            "M2\n",
            "********************\n",
            "Autovalor 1 = (-0.15569502048608974+3.5790226752395164j)\n",
            "Autovector 1 = [-0.07684054-0.50351302j -0.07684054+0.50351302j -0.74257236+0.j        ]\n",
            "Autovalor 2 = (-0.15569502048608974-3.5790226752395164j)\n",
            "Autovector 2 = [ 0.67706845+0.j  0.67706845-0.j -0.4943956 +0.j]\n",
            "Autovalor 3 = (12.31139004097218+0j)\n",
            "Autovector 3 = [-0.43634481+0.30290542j -0.43634481-0.30290542j -0.45183988+0.j        ]\n"
          ]
        }
      ],
      "source": [
        "# Definición de matrices\n",
        "M1 = np.array([[8,0,0],[0,2,0],[0,0,3]])\n",
        "M2 = np.array([[4,7,6],[0,5,8],[5,1,3]])\n",
        "\n",
        "# Vectores y valores propios\n",
        "eival1, eivec1 = np.linalg.eig(M1)\n",
        "eival2, eivec2 = np.linalg.eig(M2)\n",
        "\n",
        "# Imprimimos los hallazgos\n",
        "print('*'*20)\n",
        "print('M1')\n",
        "print('*'*20)\n",
        "for i in range(len(eival1)):\n",
        "  print(f'Autovalor {i+1} = {eival1[i]}')\n",
        "  print(f'Autovector {i+1} = {eivec1[:,i]}')\n",
        "\n",
        "print('*'*20)\n",
        "print('M2')\n",
        "print('*'*20)\n",
        "for i in range(len(eival2)):\n",
        "  print(f'Autovalor {i+1} = {eival2[i]}')\n",
        "  print(f'Autovector {i+1} = {eivec2[i]}')"
      ]
    },
    {
      "cell_type": "markdown",
      "metadata": {
        "id": "Wmz1R3H9dfyz"
      },
      "source": [
        "**Nota:** En el caso de la matriz 1, que es una matriz diagonal, es importante mencionar que al hallar sus valores y vectores propios estos deben ser los mismos elementos de la diagonal y los vectores canónicos para $R_3$ respectivamente."
      ]
    },
    {
      "cell_type": "markdown",
      "metadata": {
        "id": "xz4bMm_mlBRF"
      },
      "source": [
        "##**2. Reconstrucción de matrices a partir de sus valores y vectores propios**"
      ]
    },
    {
      "cell_type": "markdown",
      "metadata": {
        "id": "rRBGaoXVlQVK"
      },
      "source": [
        "Una matriz simétrica $Q$ se puede representar como  $Q=VAV ^{-1}$, en donde:\n",
        "\n",
        "* V es la matriz cuyas columnas son los vectores propios de Q.\n",
        "* A es una matriz diagonal cuyos elementos son los valores propios de Q.\n",
        "\n",
        "\n"
      ]
    },
    {
      "cell_type": "markdown",
      "metadata": {
        "id": "vl2kAztXvbjY"
      },
      "source": [
        "**2.1 Ejemplo:** Consideremos la siguiente matriz:\n",
        "\\begin{align}\n",
        " \\begin{pmatrix}\n",
        " 3 & 0 \\\\\n",
        " 0 & -5 \\\\\n",
        "\\end{pmatrix}\n",
        " \\end{align}\n",
        "\n",
        "Verifiquemos cómo podemos obtener la reconstrucción de una matriz simétrica a partir de sus valores y vectores propios."
      ]
    },
    {
      "cell_type": "code",
      "execution_count": null,
      "metadata": {
        "colab": {
          "base_uri": "https://localhost:8080/"
        },
        "id": "mSEtgCv4w8RV",
        "outputId": "1a7a101d-6326-4bb8-ea4e-d00609f1339a"
      },
      "outputs": [
        {
          "name": "stdout",
          "output_type": "stream",
          "text": [
            "[[ 3.  0.]\n",
            " [ 0. -5.]]\n"
          ]
        }
      ],
      "source": [
        "#Se declara la matriz\n",
        "C=np.array([[3,0],[0,-5]])\n",
        "\n",
        "#Se halla los valores y vectores propios\n",
        "a, V = np.linalg.eig(C)\n",
        "\n",
        "#Se agregan los valores propios en la diagonal de una matriz diagonal\n",
        "A=np.diag(a)\n",
        "\n",
        "#Se halla la inversa de V\n",
        "Vinv=np.linalg.inv(V)\n",
        "\n",
        "#Solamente con V, A y Vinv reconstruimos Q\n",
        "Q= np.dot(np.dot(V,A),Vinv)\n",
        "print(Q)"
      ]
    },
    {
      "cell_type": "markdown",
      "metadata": {
        "id": "fvfhTfZSQRZv"
      },
      "source": [
        "**Ejercicio de práctica** Considere la siguiente matriz:\n",
        "\\begin{align}\n",
        " \\begin{pmatrix}\n",
        " 7 & -2 & 4 \\\\\n",
        " -2 & 3 & 6 \\\\\n",
        " 4 & 6 & 7 \\\\\n",
        "\\end{pmatrix}\n",
        " \\end{align}\n",
        "\n",
        " Hallar los valores y vectores propios de esa matriz, y verifique que se puede reconstruir a partir de sus valores y vectores propios.\n",
        "\n"
      ]
    },
    {
      "cell_type": "code",
      "execution_count": 9,
      "metadata": {
        "colab": {
          "base_uri": "https://localhost:8080/"
        },
        "id": "kQwMFuYbQ6wb",
        "outputId": "429973ac-94b9-4171-dc09-9c95b0c3f715"
      },
      "outputs": [
        {
          "data": {
            "text/plain": [
              "array([[ 7., -2.,  4.],\n",
              "       [-2.,  3.,  6.],\n",
              "       [ 4.,  6.,  7.]])"
            ]
          },
          "execution_count": 9,
          "metadata": {},
          "output_type": "execute_result"
        }
      ],
      "source": [
        "# Definición de la matriz\n",
        "M = np.array([[7,-2,4],[-2,3,6],[4,6,7]])\n",
        "\n",
        "# Autovalores y autovectores\n",
        "a, V =np.linalg.eig(M)\n",
        "\n",
        "# Matriz inversa\n",
        "Vinv = np.linalg.inv(V)\n",
        "\n",
        "# Reconstrucción de la matriz\n",
        "A = np.diag(a)\n",
        "Q = np.dot(np.dot(V,A),Vinv)\n",
        "Q"
      ]
    },
    {
      "cell_type": "markdown",
      "metadata": {
        "id": "SUUFRBENouan"
      },
      "source": [
        "**Ejercicio de práctica** Una matriz $Q$ de tamaño $2\\times 2$ es simétrica con valores propios $8$ y $3$.  Los vectores propios son\n",
        "\n",
        "Matriz V:\n",
        "\n",
        "\\begin{align}\n",
        " v_1=\\begin{pmatrix}\n",
        " 2/\\sqrt{5} \\\\\n",
        " -1/\\sqrt{5} \\\\\n",
        "\\end{pmatrix}\n",
        " \\end{align}\n",
        "y\n",
        " \\begin{align}\n",
        " v_2=\\begin{pmatrix}\n",
        "  1/\\sqrt{5}\\\\\n",
        "  2/\\sqrt{5}\\\\\n",
        "\\end{pmatrix}\n",
        " \\end{align}.\n",
        "\n",
        " Usando esta información, reconstruya la matriz $Q$.\n",
        "\n"
      ]
    },
    {
      "cell_type": "code",
      "execution_count": 16,
      "metadata": {
        "colab": {
          "base_uri": "https://localhost:8080/"
        },
        "id": "HAQBLH9qgT9-",
        "outputId": "7903b3e2-f0ea-4473-89fd-1f1bdac62729"
      },
      "outputs": [
        {
          "name": "stdout",
          "output_type": "stream",
          "text": [
            "autovalores\n",
            "[8. 3.]\n",
            "autovectores\n",
            "[[ 0.89442719  0.4472136 ]\n",
            " [-0.4472136   0.89442719]]\n",
            "Matriz reconstruida\n"
          ]
        },
        {
          "data": {
            "text/plain": [
              "array([[ 7., -2.],\n",
              "       [-2.,  4.]])"
            ]
          },
          "execution_count": 16,
          "metadata": {},
          "output_type": "execute_result"
        }
      ],
      "source": [
        "# Matriz de valores propips\n",
        "A = np.diag([8,3])\n",
        "V = np.array([[2/np.sqrt(5), -1/np.sqrt(5)], [1/np.sqrt(5), 2/np.sqrt(5)]]).T\n",
        "Vinv = np.linalg.inv(V)\n",
        "\n",
        "# Reconstrucción de la martiz\n",
        "Q = np.dot(np.dot(V,A),Vinv)\n",
        "\n",
        "# Verificación de lo obtenido\n",
        "a_rec, v_rec = np.linalg.eig(Q)\n",
        "\n",
        "print('autovalores')\n",
        "print(a_rec)\n",
        "print('autovectores')\n",
        "print(v_rec)\n",
        "print('Matriz reconstruida')\n",
        "Q"
      ]
    }
  ],
  "metadata": {
    "colab": {
      "provenance": []
    },
    "kernelspec": {
      "display_name": "Python 3 (ipykernel)",
      "language": "python",
      "name": "python3"
    },
    "language_info": {
      "codemirror_mode": {
        "name": "ipython",
        "version": 3
      },
      "file_extension": ".py",
      "mimetype": "text/x-python",
      "name": "python",
      "nbconvert_exporter": "python",
      "pygments_lexer": "ipython3",
      "version": "3.11.9"
    }
  },
  "nbformat": 4,
  "nbformat_minor": 0
}
